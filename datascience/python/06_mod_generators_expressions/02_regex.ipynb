{
 "cells": [
  {
   "cell_type": "markdown",
   "metadata": {},
   "source": [
    "Data Science Fundamentals: Python |\n",
    "[Table of Contents](../index.ipynb)\n",
    "- - - \n",
    "<!--NAVIGATION-->\n",
    "Module 6. | [Generators](./01_generators.ipynb) | **[Regular Expressions](./02_regex.ipynb)** | [String Manipulation & Regular Expressions](03_str_manipulate.ipynb) | [Closures & Generators](./04_closures_generators.ipynb) | [Exercises](./05_gen_regex_exercises.ipynb)"
   ]
  },
  {
   "cell_type": "markdown",
   "metadata": {},
   "source": [
    "\n",
    "## [Regular Expressions](https://csmastersuh.github.io/data_analysis_with_python_spring_2020/basics2.html#Regular-expressions)"
   ]
  },
  {
   "cell_type": "markdown",
   "metadata": {},
   "source": [
    "### Examples"
   ]
  },
  {
   "cell_type": "markdown",
   "metadata": {},
   "source": [
    "We have already seen that we can ask from a string str whether it begins with some substring as follows: str.startswith('Apple'). If we would like to know whether it starts with \"Apple\" or \"apple\", we would have to call startswith method twice. Regular expressions offer a simpler solution: re.match(r\"[Aa]pple\", str). The bracket notation is one example of the special syntax of regular expressions. In this case it says that any of the characters inside brackets will do: either \"A\" or \"a\". The other letters in \"pple\" will act normally. The string r\"[Aa]pple\" is called a pattern.\n",
    "\n",
    "A more complicated example asks whether the string str starts with either apple or banana (no matter if the first letter is capital or not): re.match(r\"[Aa]pple|[Bb]anana\", str). In this example we saw a new special character | that denotes an alternative. On either side of the bar character we have a subpattern.\n",
    "\n",
    "A legal variable name in Python starts with a letter or an underline character and the following characters can also be digits. So legal names are, for instance: _hidden, L_value, A123_. But the name 2abc is not a valid variable name. Let’s see what would be the regular expression pattern to recognise valid variable names: r\"[A-Za-z_][A-Za-z_0-9]*\\Z\". Here we have used a shorthand for character ranges: A-Z. This means all the characters from A to Z.\n",
    "\n",
    "The first character of the variable name is defined in the first brackets. The subsequent characters are defined in the second brackets. The special character * means that we allow any number (0,1,2, … ) of the previous subpattern. For example the pattern r\"ba*\" allows strings \"b\", \"ba\", \"baa\", \"baaa\", and so on. The special syntax \\Z denotes the end of the string. Without it we would also accept abc- as a valid name since the match function normally checks only that a string starts with a pattern.\n",
    "\n",
    "The special notations, like \\Z, also cause problems with string handling. Remember that normally in string literals we have some special notation: \\n stands for newline, \\t stands for tab, and so on. So, both string literals and regular expressions use similar looking notations, which can create serious confusion. This can be solved by using the so-called raw strings. We denote a raw string by having an r letter before the first quotation mark, for example r\"ab*\\Z\". When using raw strings, the newline (\\n), tab (\\t), and other special string literal notations aren’t interpreted. One should always use raw strings when defining regular expression patterns!"
   ]
  },
  {
   "cell_type": "code",
   "execution_count": null,
   "metadata": {},
   "outputs": [],
   "source": []
  },
  {
   "cell_type": "markdown",
   "metadata": {},
   "source": [
    "### Patterns"
   ]
  },
  {
   "cell_type": "markdown",
   "metadata": {},
   "source": [
    "A pattern represents a set of strings. This set can even be potentially infinite. They can be used to describe a set of strings that have some commonality; some regular structure. Regular expressions (RE) are a classical computer science topic. They are very common in programming tasks. Scripting languages, like Python, are very fluent in regular expressions. Very complex text processing can be achieved using regular expressions.\n",
    "\n",
    "In patterns, normal characters (letters, numbers) just represent themselves, unless preceded by a backslash, which may trigger some special meaning. Punctuation characters have special meaning, unless preceded by backslash (\\), which deprives their special meaning. Use \\\\ to represent a backslash character without any special meaning. In the following slides we will go through some of the more common RE notations."
   ]
  },
  {
   "cell_type": "raw",
   "metadata": {},
   "source": [
    ". Matches any character\n",
    "[...] Matches any character contained within the brackets\n",
    "[^...] Matches any character not appearing after the hat (ˆ)\n",
    "ˆ Matches the start of the string\n",
    "$ Matches the end of the string\n",
    "* Matches zero or more previous RE\n",
    "+ Matches one or more previous RE\n",
    "{m,n} Matches m to n occurences of previous RE\n",
    "? Matches zero or one occurences of previous RE"
   ]
  },
  {
   "cell_type": "markdown",
   "metadata": {},
   "source": [
    "We have already seen that a | character denotes alternatives. For example, the pattern r\"Get (on|off|ready)\" matches the following strings: \"Get on\", \"Get off\", \"Get ready\". We can use parentheses to create groupings inside a pattern: r\"(ab)+\" will match the strings \"ab\", \"abab\", \"ababab\", and so on. These groups are also given a reference number starting from 1. We can refer to groups using backreferences: \\number. For example, we can find separated patterns that get repeated: r\"([a-z]{3,}) \\1 \\1\". This will recognise, for example, the following strings: \"aca aca aca\", \"turn turn turn\". But not the strings \"aca aba aca\" or \"ac ac ac\".\n",
    "\n",
    "In the following, note that a hat (ˆ) as the first character inside brackets will create a complement set of characters:"
   ]
  },
  {
   "cell_type": "raw",
   "metadata": {},
   "source": [
    "`\\d` same as `[0-9]`, matches a digit\n",
    "`\\D` same as `[ˆ0-9]`, matches anything but a digit\n",
    "`\\s` matches a whitespace character (space, newline, tab, ... )\n",
    "`\\S` matches a nonwhitespace character\n",
    "`\\w` same as `[a-zA-Z0-9_]`, matches one alphanumeric character\n",
    "`\\W` matches one non-alphanumeric character"
   ]
  },
  {
   "cell_type": "markdown",
   "metadata": {},
   "source": [
    "Using the above notation we can now shorten our previous variable name example to r’[a-zA-Z_]\\w*\\Z’\n",
    "\n",
    "The patterns \\A, \\b, \\B, and \\Z will all match an empty string, but in specific places. The patterns \\A and \\Z will recognise the beginning and end of the string, respectively. Note that the patterns ˆ and $ can in some cases match also after a newline and before a newline, correspondingly. So, \\A is distinct from ˆ, and \\Z is distinct from $. The pattern \\b matches at the start or end of a word. The pattern \\B does the reverse."
   ]
  },
  {
   "cell_type": "markdown",
   "metadata": {},
   "source": [
    "**Match and Search Function**"
   ]
  },
  {
   "cell_type": "markdown",
   "metadata": {},
   "source": [
    "We have so far only used the re.match function which tries to find a match at the beginning of a string The function re.search allows to match any substring of a string. Example: re.search(r'\\bback\\b', s) will match strings \"back\", \"a back, is a body part\", \"get back\". But it will not match the strings \"backspace\" or \"comeback\".\n",
    "\n",
    "The function re.search finds only the first occurence. We can use the re.findall function to find all occurences. Let’s say we want to find all present participle words in a string s. The present participle words have ending 'ing'. The function call would look like this: re.findall(r'\\w+ing\\b', s). Let’s try running this:"
   ]
  },
  {
   "cell_type": "code",
   "execution_count": 1,
   "metadata": {},
   "outputs": [
    {
     "data": {
      "text/plain": [
       "['Doing', 'going', 'staying', 'sleeping']"
      ]
     },
     "execution_count": 1,
     "metadata": {},
     "output_type": "execute_result"
    }
   ],
   "source": [
    "import re\n",
    "s = \"Doing things, going home, staying awake, sleeping later\"\n",
    "re.findall(r'\\w+ing\\b', s)"
   ]
  },
  {
   "cell_type": "markdown",
   "metadata": {},
   "source": [
    "Let’s say we want to pick up all the integers from a string. We can try that with the following function call: re.findall(r'[+-]?\\d+', s). An example run:"
   ]
  },
  {
   "cell_type": "code",
   "execution_count": 3,
   "metadata": {},
   "outputs": [
    {
     "data": {
      "text/plain": [
       "['23', '-24', '-1']"
      ]
     },
     "execution_count": 3,
     "metadata": {},
     "output_type": "execute_result"
    }
   ],
   "source": [
    "re.findall(r'[+-]?\\d+', \"23 + -24 = -1\")"
   ]
  },
  {
   "cell_type": "markdown",
   "metadata": {},
   "source": [
    "Suppose we are given a string of if/then sentences, and we would like to extract the conditions from these sentences. Let’s try the following function call: re.findall(r'[Ii]f (.*), then', s). An example run:"
   ]
  },
  {
   "cell_type": "code",
   "execution_count": 5,
   "metadata": {},
   "outputs": [
    {
     "data": {
      "text/plain": [
       "['I’m not in a hurry, then I should stay. On the other hand, if I leave']"
      ]
     },
     "execution_count": 5,
     "metadata": {},
     "output_type": "execute_result"
    }
   ],
   "source": [
    "s = (\"If I’m not in a hurry, then I should stay. \" +\n",
    "    \"On the other hand, if I leave, then I can sleep.\")\n",
    "re.findall(r'[Ii]f (.*), then', s)"
   ]
  },
  {
   "cell_type": "markdown",
   "metadata": {},
   "source": [
    "But I wanted a result: [\"I'm not in a hurry\", 'I leave']. That is, the condition from both sentences. How can this be fixed?\n",
    "\n",
    "The problem is that the pattern .* tries to match as many characters as possible. This is called greedy matching. One way of solving this problem is to notice that the two sentences are separated by a full-stop (.). So, instead of matching all the characters, we need to match everything but the dot character. This can be achieved by using the complement character class: [^.]. The hat character (ˆ) in the beginning of a character class means the complement character class\n",
    "\n",
    "After the modification the function call looks like this: re.findall(r'[Ii]f ([^.]*), then', s). Another way of solving this problem is to use a non-greedy matching. The repetition specifiers +, *, ?, and {m,n} have corresponding non-greedy versions: +?, *?, ??, and {m,n}?. These expressions use as few characters as possible to make the whole pattern match some substring. By using non-greedy version, the function call looks like this: re.findall(r’[Ii]f (.*?), then’, s)."
   ]
  },
  {
   "cell_type": "markdown",
   "metadata": {},
   "source": [
    "**Functions in the re module**"
   ]
  },
  {
   "cell_type": "markdown",
   "metadata": {},
   "source": [
    "Below is a list of the most common functions in the re module"
   ]
  },
  {
   "cell_type": "raw",
   "metadata": {},
   "source": [
    "re.match(pattern, str)\n",
    "re.search(pattern, str)\n",
    "re.findall(pattern, str)\n",
    "re.finditer(pattern, str)\n",
    "re.sub(pattern, replacement, str, count=0)"
   ]
  },
  {
   "cell_type": "markdown",
   "metadata": {},
   "source": [
    "Functions match and search return a match object. A match object describes the found occurence. The function findall returns a list of all the occurences of the pattern. The elements in the list are strings. The function finditer works like findall function except that instead of returning a list, it returns an iterator whose items are match objects. The function sub replaces all the occurences of the pattern in str with the string replacement and returns the new string.\n",
    "\n",
    "An example: The following program will replace all “she” words with “he”"
   ]
  },
  {
   "cell_type": "raw",
   "metadata": {},
   "source": [
    "import re\n",
    "str = \"She goes where she wants to, she's a sheriff.\"\n",
    "newstr = re.sub(r'\\b[Ss]he\\b', 'he', str)\n",
    "print newstr"
   ]
  },
  {
   "cell_type": "markdown",
   "metadata": {},
   "source": [
    "This will print he goes where he wants to, he's a sheriff."
   ]
  },
  {
   "cell_type": "markdown",
   "metadata": {},
   "source": [
    "The sub function can also use backreferences to refer to the matched string. The backreferences \\1, \\2, and so on, refer to the groups of the pattern, in order. An example:"
   ]
  },
  {
   "cell_type": "raw",
   "metadata": {},
   "source": [
    "import re\n",
    "str = \"\"\"He is the president of Russia. He’s a powerful man.\"\"\"\n",
    "newstr = re.sub(r'(\\b[Hh]e\\b)', r'\\1 (Putin)', str, 1)\n",
    "print newstr"
   ]
  },
  {
   "cell_type": "markdown",
   "metadata": {},
   "source": [
    "This will print"
   ]
  },
  {
   "cell_type": "raw",
   "metadata": {},
   "source": [
    "He (Putin) is the president of Russia.\n",
    "He’s a powerful man."
   ]
  },
  {
   "cell_type": "markdown",
   "metadata": {},
   "source": [
    "**Match Object**"
   ]
  },
  {
   "cell_type": "markdown",
   "metadata": {},
   "source": [
    "Functions match, search, and finditer use match objects to describe the found occurence. The method groups() of the match object returns the tuple of all the substrings matched by the groups of the pattern. Each pair of parentheses in the pattern creates a new group. These groups are are referred to by indices 1, 2, … The group 0 is a special one: it refers to the match created by the whole pattern."
   ]
  },
  {
   "cell_type": "markdown",
   "metadata": {},
   "source": [
    "Let’s look at the match object returned by the call"
   ]
  },
  {
   "cell_type": "code",
   "execution_count": 9,
   "metadata": {},
   "outputs": [],
   "source": [
    "mo = re.search(r'\\d+ (\\d+) \\d+ (\\d+)',\n",
    "'first 123 45 67 890 last')"
   ]
  },
  {
   "cell_type": "markdown",
   "metadata": {},
   "source": [
    "The call mo.groups() returns a tuple (’45’, ’890’). We can access just some individual groups by using the method group(gid, ...). For example, the call mo.group(1) will return ’45’. The zeroth group will represent the whole match: ’123 45 67 890’\n",
    "\n",
    "In addition to accessing the strings matched by the pattern and its groups, the corresponding indices of the original string can be accessed:\n",
    "\n",
    "- The start(gid=0) and end(gid=0) methods return the start and end indices of the matched group gid, correspondingly\n",
    "- The method span(gid) just returns the pair of these start and end indices\n",
    "\n",
    "The match object mo can also be used like a boolean value:"
   ]
  },
  {
   "cell_type": "raw",
   "metadata": {},
   "source": [
    "mo = re.search(...)\n",
    "if mo:\n",
    "    # do something"
   ]
  },
  {
   "cell_type": "markdown",
   "metadata": {},
   "source": [
    "will do something if a match was found. Alternatively, the match object can be converted to a boolean value by the call found = bool(mo)."
   ]
  },
  {
   "cell_type": "markdown",
   "metadata": {},
   "source": [
    "**Miscellaneous Stuff**"
   ]
  },
  {
   "cell_type": "markdown",
   "metadata": {},
   "source": [
    "If the same pattern is used in many function calls, it may be wise to precompile the pattern, mainly for efficiency reasons. This can be done using the compile(pattern, flags=0) function in the re module. The function returns a so-called RE object. The RE object has method versions of the functions found in module re. The only difference is that the first parameter is not the pattern since the precompiled pattern is stored in the RE object.\n",
    "\n",
    "The details of matching operation can be specified using optional flags. These flags can be given either inside the pattern or as a parameter to the compile function. Some of the more common flags are given in the following table"
   ]
  },
  {
   "cell_type": "markdown",
   "metadata": {},
   "source": [
    "![table](files/table.png)"
   ]
  },
  {
   "cell_type": "markdown",
   "metadata": {},
   "source": [
    "The elements on the left can appear anywhere in the pattern but preferably in the beginning. On the right there are attributes of the re module that can be given to the compile function as the second parameter\n",
    "\n",
    "The IGNORECASE flag makes lower- and uppercase characters appear as equal. The MULTILINE flag makes the special characters ˆ and $ match the beginning and end of each line in addition to the beginning and end of the whole string. These flags make \\A differ from ˆ, and \\Z differ from $. The DOTALL flag makes the character class . (dot) also accept the newline character, in addition to all the other letters.\n",
    "\n",
    "When giving multiple flags to the compile function, the flags can be separated with the | sign. For example, re.compile(pattern, re.MULTILINE | re.DOTALL). This is equal to re.compile('(?m)(?s)' + pattern)."
   ]
  },
  {
   "cell_type": "markdown",
   "metadata": {},
   "source": [
    "<!--NAVIGATION-->\n",
    "Module 6. | [Generators](./01_generators.ipynb) | **[Regular Expressions](./02_regex.ipynb)** | [String Manipulation & Regular Expressions](03_str_manipulate.ipynb) | [Closures & Generators](./04_closures_generators.ipynb) | [Exercises](./05_gen_regex_exercises.ipynb)\n",
    "<br>\n",
    "[Top](#)"
   ]
  },
  {
   "cell_type": "markdown",
   "metadata": {},
   "source": [
    "- - -\n",
    "\n",
    "Copyright © 2020 Qualex Consulting Services Incorporated."
   ]
  },
  {
   "cell_type": "code",
   "execution_count": null,
   "metadata": {},
   "outputs": [],
   "source": []
  }
 ],
 "metadata": {
  "kernelspec": {
   "display_name": "Python 3",
   "language": "python",
   "name": "python3"
  },
  "language_info": {
   "codemirror_mode": {
    "name": "ipython",
    "version": 3
   },
   "file_extension": ".py",
   "mimetype": "text/x-python",
   "name": "python",
   "nbconvert_exporter": "python",
   "pygments_lexer": "ipython3",
   "version": "3.7.7"
  }
 },
 "nbformat": 4,
 "nbformat_minor": 4
}
