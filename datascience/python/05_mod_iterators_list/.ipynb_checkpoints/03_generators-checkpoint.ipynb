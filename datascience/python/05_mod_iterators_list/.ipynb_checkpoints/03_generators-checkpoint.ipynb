{
 "cells": [
  {
   "cell_type": "markdown",
   "metadata": {},
   "source": [
    "Data Science Fundamentals: Python |\n",
    "[Table of Contents](../index.ipynb)\n",
    "- - - \n",
    "<!--NAVIGATION-->\n",
    "Module 5. | [Iterators](./01_iterators.ipynb) | [List Comprehension](./02_list_comprehension.ipynb) | **[Generators](./03_generators.ipynb)** | [Exercises](./04_list_exercises.ipynb)"
   ]
  },
  {
   "cell_type": "markdown",
   "metadata": {},
   "source": [
    "## Sequences, iterables, generators: revisited"
   ]
  },
  {
   "cell_type": "markdown",
   "metadata": {},
   "source": [
    "In simple terms, a container is iterable, if we can go through all its elements using a for loop. All the sequences are iterable, but there are other iterable objects as well. We can even create iterable types ourselves. In our class there needs to be a special method __iter__ that returns an iterator for the container. An iterator is an object that has method __next__, which returns the next element from the container. Let’s have a look at a simple example where the container and its iterator is the same class."
   ]
  },
  {
   "cell_type": "code",
   "execution_count": null,
   "metadata": {},
   "outputs": [],
   "source": [
    "class WeekdayIterator(object):\n",
    "    \"\"\"Iterator over the weekdays.\"\"\"\n",
    "    def __init__(self):\n",
    "        self.i=0           # Start from Monday\n",
    "        self.weekdays = (\"Monday\",\"Tuesday\",\"Wednesday\",\"Thursday\",\"Friday\",\"Saturday\",\"Sunday\")\n",
    "    def __iter__(self):    # If this object were a container, then this method would return the iterator over the\n",
    "                           # elements of the container.\n",
    "        return self        # However, this object is already an iterator, hence we return self.\n",
    "    def __next__(self):    # Returns the next weekday\n",
    "        if self.i == 7:\n",
    "            raise StopIteration # Signal that all weekdays were already iterated over\n",
    "        else:\n",
    "            weekday = self.weekdays[self.i]\n",
    "            self.i += 1\n",
    "            return weekday\n",
    "\n",
    "for w in WeekdayIterator():\n",
    "    print(w)"
   ]
  },
  {
   "cell_type": "markdown",
   "metadata": {},
   "source": [
    "We can now check whether the WeekdayIterator is a Sequence type:"
   ]
  },
  {
   "cell_type": "code",
   "execution_count": null,
   "metadata": {},
   "outputs": [],
   "source": [
    "from collections import abc  # Get the abstract base classes\n",
    "containers = [\"efg\", [1,2,3], (4,5), WeekdayIterator()]\n",
    "for c in containers:\n",
    "    if isinstance(c, abc.Sequence):\n",
    "        print(c, \"is a sequence\")\n",
    "    else:\n",
    "        print(c, \"is not a sequence\")"
   ]
  },
  {
   "cell_type": "markdown",
   "metadata": {},
   "source": [
    "Weekday is not a sequence because, for instance, you cannot index it with the brackets [], but it is an iterable:"
   ]
  },
  {
   "cell_type": "code",
   "execution_count": null,
   "metadata": {},
   "outputs": [],
   "source": [
    "isinstance(WeekdayIterator(), abc.Iterable)"
   ]
  },
  {
   "cell_type": "markdown",
   "metadata": {},
   "source": [
    "So it is possible to create iterators ourselves, but the syntax was quite complicated. There is an easier option using generators. A generator is a function that contains a yield statement. Note the difference between generators and generator expressions we saw in the first week. Both however produce iterables. Here’s an example of a generator:"
   ]
  },
  {
   "cell_type": "code",
   "execution_count": null,
   "metadata": {},
   "outputs": [],
   "source": [
    "def mydate(day=1, month=1):   # Generates dates starting from the given date\n",
    "    lengths=(31,28,31,30,31,30,31,31,30,31,30,31)   # How many days in a month\n",
    "    first_day=day\n",
    "    for m in range(month, 13):\n",
    "        for d in range(first_day, lengths[m-1] + 1):\n",
    "            yield (d, m)\n",
    "        first_day=1\n",
    "# Create the generator by calling the function:\n",
    "gen = mydate(26, 2)   # Start from 26th of February\n",
    "for i, (day, month) in enumerate(gen):\n",
    "    if i == 5: break                 # Print only the first five dates from the generator\n",
    "    print(f\"Index {i}, day {day}, month {month}\")"
   ]
  },
  {
   "cell_type": "markdown",
   "metadata": {},
   "source": [
    "Note that it would not be possible to write the above iterable using a generator expression, and it would have been very clumsy to explicitly write it as an iterator like we did the WeekdayIterator. The below figure shows the relationships between different iterables we have seen:"
   ]
  },
  {
   "cell_type": "markdown",
   "metadata": {},
   "source": [
    "![title](files/iterables.svg)"
   ]
  },
  {
   "cell_type": "code",
   "execution_count": null,
   "metadata": {},
   "outputs": [],
   "source": []
  },
  {
   "cell_type": "markdown",
   "metadata": {},
   "source": [
    "- - - \n",
    "<!--NAVIGATION-->\n",
    "Module 5. | [Iterators](./01_iterators.ipynb) | [List Comprehension](./02_list_comprehension.ipynb) | **[Generators](./03_generators.ipynb)** | [Exercises](./04_list_exercises.ipynb)\n",
    "<br>\n",
    "[Top](#)"
   ]
  },
  {
   "cell_type": "code",
   "execution_count": null,
   "metadata": {},
   "outputs": [],
   "source": []
  }
 ],
 "metadata": {
  "kernelspec": {
   "display_name": "Python 3",
   "language": "python",
   "name": "python3"
  },
  "language_info": {
   "codemirror_mode": {
    "name": "ipython",
    "version": 3
   },
   "file_extension": ".py",
   "mimetype": "text/x-python",
   "name": "python",
   "nbconvert_exporter": "python",
   "pygments_lexer": "ipython3",
   "version": "3.7.7"
  }
 },
 "nbformat": 4,
 "nbformat_minor": 4
}
